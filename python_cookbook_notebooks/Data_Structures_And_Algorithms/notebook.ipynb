{
 "cells": [
  {
   "cell_type": "markdown",
   "metadata": {},
   "source": [
    "## 1.1 Unpacking a sequence into separate variables"
   ]
  },
  {
   "cell_type": "code",
   "execution_count": 9,
   "metadata": {},
   "outputs": [],
   "source": [
    "from typing import Tuple, List, Dict"
   ]
  },
  {
   "cell_type": "code",
   "execution_count": null,
   "metadata": {},
   "outputs": [],
   "source": [
    "# tuple\n",
    "p: Tuple = (4, 5)\n",
    "x, y = p\n",
    "\n",
    "print(f\"x: {x}, y: {y}\")"
   ]
  },
  {
   "cell_type": "code",
   "execution_count": null,
   "metadata": {},
   "outputs": [],
   "source": [
    "# list\n",
    "data: List[any] = [\"ACME\", 50, 91.1, (2012, 12, 21)]\n",
    "name, shares, price, date = data\n",
    "(year, month, day) = date\n",
    "\n",
    "print(f\"name: {name}, shares: {shares}, price: {price}, year: {year}, month: {month}, day: {day}\")"
   ]
  },
  {
   "cell_type": "code",
   "execution_count": null,
   "metadata": {},
   "outputs": [],
   "source": [
    "#Skipping some values from the list, use of underscore\n",
    "data: List[any] = [\"ACME\", 50, 91.1, (2012, 12, 21)]\n",
    "name, _, price, _ = data\n",
    "\n",
    "\n",
    "print(f\"name: {name}, price: {price}\")"
   ]
  },
  {
   "cell_type": "code",
   "execution_count": null,
   "metadata": {},
   "outputs": [],
   "source": [
    "# string\n",
    "s: str = \"Hello\"\n",
    "a, b, c, d, e = s\n",
    "\n",
    "print(f\"a: {a}, b: {b}, c: {c}, d: {d}, e: {e},\")"
   ]
  },
  {
   "cell_type": "markdown",
   "metadata": {},
   "source": [
    "## 1.2 Unpacking elements from iterables of arbitrary length"
   ]
  },
  {
   "cell_type": "code",
   "execution_count": null,
   "metadata": {},
   "outputs": [],
   "source": [
    "# the usage of \"star\" operator\n",
    "record: Tuple = (\"Dave\", \"777-555-12121\", \"847-555-12121\", \"dave@example.com\")\n",
    "name, *phone_numbers, email  = record\n",
    "\n",
    "print(f\"name: {name}\")\n",
    "print(f\"email: {email}\")\n",
    "print(f\"phone_numbers: {phone_numbers}\")\n",
    "print(f\"phone_numbers: {phone_numbers[0]}\")\n"
   ]
  },
  {
   "cell_type": "code",
   "execution_count": null,
   "metadata": {},
   "outputs": [],
   "source": [
    "# sequence of tuples\n",
    "records: List[Tuple] = [\n",
    "    (\"foo\", 1, 2),\n",
    "    (\"bar\", \"hello\"),\n",
    "    (\"foo\", 3, 4)\n",
    "]\n",
    "\n",
    "def do_foo(x: int, y: int) -> None:\n",
    "    print(f\"foo {x} {y}\")\n",
    "\n",
    "def do_bar(s: str) -> None:\n",
    "    print(f\"bar {s}\")\n",
    "\n",
    "for tag, *args in records:\n",
    "    print(f\"tag: {tag}, args: {args}\")\n",
    "    if tag == \"foo\":\n",
    "        do_foo(*args)\n",
    "    elif tag == \"bar\":\n",
    "        do_bar(*args)"
   ]
  },
  {
   "cell_type": "code",
   "execution_count": null,
   "metadata": {},
   "outputs": [],
   "source": [
    "# star unpacking in string processing\n",
    "\n",
    "line: str = \"nobody:*:-2:-2:Unprivileged User:/var/empty:/usr/bin/false\"\n",
    "uname, *fields, homedir, sh = line.split(\":\")\n",
    "\n",
    "print(line.split(\":\"))\n",
    "print(type(line.split(\":\")))\n",
    "\n",
    "print(f\"uname: {uname}\")\n",
    "print(f\"fields: {fields}\")\n",
    "print(f\"homedir: {homedir}\")\n",
    "print(f\"sh: {sh}\")"
   ]
  },
  {
   "cell_type": "code",
   "execution_count": null,
   "metadata": {},
   "outputs": [],
   "source": [
    "# ignoring some of the values\n",
    "record = (\"ACME\", 50, 123.45, (12, 18, 2012))\n",
    "name, *_, (*_, year) = record\n",
    "\n",
    "print(f\"name: {name}, year: {year}\")"
   ]
  },
  {
   "cell_type": "code",
   "execution_count": null,
   "metadata": {},
   "outputs": [],
   "source": [
    "# recursive function using unpack operator for suming the digits of the number\n",
    "def sum(items: List[int]) -> int:\n",
    "    head, *tail = items\n",
    "    if tail:\n",
    "        return head + sum(tail)\n",
    "    else:\n",
    "        return head\n",
    "\n",
    "items: List[int] = [1, 2, 3, 4, 5, 6]\n",
    "sum(items)"
   ]
  },
  {
   "cell_type": "markdown",
   "metadata": {},
   "source": [
    "## 1.3 Keeping the last N items"
   ]
  },
  {
   "cell_type": "code",
   "execution_count": null,
   "metadata": {},
   "outputs": [],
   "source": [
    "# The following code performs a simple text match on a sequence of lines and\n",
    "# yields the matching line along with the previous N lines of context when found\n",
    "\n",
    "# Will be using collections.deque\n",
    "# Deque if prefered over a list when quicker append and pop operations from both ends\n",
    "# of the container needed. Time complexity O(1) over O(n) of a list\n",
    "\n",
    "from collections import deque\n",
    "from collections.abc import Generator\n",
    "\n",
    "def search(lines: str, pattern: str, history: int = 5) -> Generator[str, deque[str], None]:\n",
    "    previous_lines = deque(maxlen=history)\n",
    "    for line in lines:\n",
    "        if pattern in line:\n",
    "            yield line, previous_lines\n",
    "        previous_lines.append(line)\n",
    "\n",
    "\n",
    "\n",
    "#Example use on a file\n",
    "if __name__ == \"__main__\":\n",
    "    with open('text.txt', 'r') as f:\n",
    "        for line, prevlines in search(f, \"python\"):\n",
    "            for pline in prevlines:\n",
    "                print(f\"{pline}\")\n",
    "            print(f\"{line}\")\n",
    "            print(\"-\" * 45)"
   ]
  },
  {
   "cell_type": "code",
   "execution_count": null,
   "metadata": {},
   "outputs": [],
   "source": [
    "# Example of using generator\n",
    "\n",
    "def txt_read(file_name: str) -> Generator[str, None, None]:\n",
    "    for row in open(file_name, \"r\"):\n",
    "        yield row\n",
    "\n",
    "print(txt_read(\"text.txt\"))\n",
    "\n",
    "for row in txt_read(\"text.txt\"):\n",
    "    print(f\"{row}\")"
   ]
  },
  {
   "cell_type": "code",
   "execution_count": null,
   "metadata": {},
   "outputs": [],
   "source": [
    "# Example of using generator comprehension and a certain condition\n",
    "row_gen = (row for row in open(\"text.txt\", \"r\") if row.startswith(\"python\"))\n",
    "print(type(row_gen))\n",
    "for row in row_gen:\n",
    "    print(f\"{row}\")"
   ]
  },
  {
   "cell_type": "markdown",
   "metadata": {},
   "source": [
    "## 1.4 Finding the largest or smallest N items"
   ]
  },
  {
   "cell_type": "code",
   "execution_count": 2,
   "metadata": {},
   "outputs": [
    {
     "name": "stdout",
     "output_type": "stream",
     "text": [
      "Three largest numbers from nums: [42, 37, 23]\n",
      "Three smallest numbers from nums: [-4, 1, 2]\n"
     ]
    }
   ],
   "source": [
    "# Using heapq module\n",
    "\n",
    "import heapq\n",
    "\n",
    "nums = [1, 8, 2, 23, 7, -4, 18, 23, 42, 37, 2]\n",
    "print(f\"Three largest numbers from nums: {heapq.nlargest(3, nums)}\")\n",
    "print(f\"Three smallest numbers from nums: {heapq.nsmallest(3, nums)}\")\n",
    "\n"
   ]
  },
  {
   "cell_type": "code",
   "execution_count": 7,
   "metadata": {},
   "outputs": [
    {
     "name": "stdout",
     "output_type": "stream",
     "text": [
      "Three smallest records by price: [{'name': 'YHOO', 'shares': 45, 'price': 16.35}, {'name': 'FB', 'shares': 200, 'price': 21.09}, {'name': 'HPQ', 'shares': 35, 'price': 31.75}]\n",
      "Three largest records by price: [{'name': 'AAPL', 'shares': 50, 'price': 543.22}, {'name': 'ACME', 'shares': 75, 'price': 115.65}, {'name': 'IBM', 'shares': 100, 'price': 91.1}]\n"
     ]
    }
   ],
   "source": [
    "# heapq module useage with more complicated data structures. These functions work\n",
    "# well when N is relatively small in comparison to a whole collection. It requires O(log N) operations\n",
    "portfolio = [\n",
    "    {'name': 'IBM', 'shares': 100, 'price': 91.1}, \n",
    "    {'name': 'AAPL', 'shares': 50, 'price': 543.22}, \n",
    "    {'name': 'FB', 'shares': 200, 'price': 21.09}, \n",
    "    {'name': 'HPQ', 'shares': 35, 'price': 31.75}, \n",
    "    {'name': 'YHOO', 'shares': 45, 'price': 16.35}, \n",
    "    {'name': 'ACME', 'shares': 75, 'price': 115.65}\n",
    "]\n",
    "\n",
    "cheap = heapq.nsmallest(3, portfolio, key=lambda s: s[\"price\"])\n",
    "expensive = heapq.nlargest(3, portfolio, key=lambda s: s[\"price\"])\n",
    "\n",
    "print(f\"Three smallest records by price: {cheap}\")\n",
    "print(f\"Three largest records by price: {expensive}\")"
   ]
  },
  {
   "cell_type": "markdown",
   "metadata": {},
   "source": [
    "## 1.5 Implementing a priority queue"
   ]
  },
  {
   "cell_type": "code",
   "execution_count": 14,
   "metadata": {},
   "outputs": [],
   "source": [
    "# Implementing a queue that sorts items by a given priority and always returns\n",
    "# the item with the highest priority on each pop operation\n",
    "\n",
    "import heapq\n",
    "\n",
    "class PriorityQueue:\n",
    "    def __init__(self) -> None:\n",
    "        self._queue = []\n",
    "        self._index = 0\n",
    "\n",
    "    def push(self, item, priority) -> None:\n",
    "        heapq.heappush(self._queue, (-priority, self._index, item))\n",
    "        self._index += 1\n",
    "\n",
    "    def pop(self) -> any:\n",
    "        return heapq.heappop(self._queue)[-1]\n",
    "\n",
    "class Item:\n",
    "    def __init__(self, name) -> None:\n",
    "        self.name = name\n",
    "\n",
    "    def __repr__(self) -> str:\n",
    "        return \"Item({!r})\".format(self.name)\n",
    "\n",
    "q = PriorityQueue()\n",
    "q.push(Item(\"foo\"), 1)\n",
    "q.push(Item(\"bar\"), 5)\n",
    "q.push(Item(\"spam\"), 4)\n",
    "q.push(Item(\"grok\"), 1)\n",
    "\n"
   ]
  },
  {
   "cell_type": "code",
   "execution_count": 15,
   "metadata": {},
   "outputs": [
    {
     "data": {
      "text/plain": [
       "Item('bar')"
      ]
     },
     "execution_count": 15,
     "metadata": {},
     "output_type": "execute_result"
    }
   ],
   "source": [
    "q.pop()"
   ]
  },
  {
   "cell_type": "markdown",
   "metadata": {},
   "source": [
    "## 1.6 Mapping keys to multiple values in a dictionary"
   ]
  },
  {
   "cell_type": "code",
   "execution_count": null,
   "metadata": {},
   "outputs": [],
   "source": [
    "# Making a dictionary that maps keys to more than one value - multidict\n",
    "\n",
    "# Multiple values stored in a list\n",
    "d = {\n",
    "    \"a\": [1, 2, 3],\n",
    "    \"b\": [4, 5]\n",
    "}\n",
    "\n",
    "# Multiple values stored in a set\n",
    "e = {\n",
    "    \"a\": {1, 2, 3},\n",
    "    \"b\": {4, 5}\n",
    "}"
   ]
  },
  {
   "cell_type": "code",
   "execution_count": 18,
   "metadata": {},
   "outputs": [
    {
     "name": "stdout",
     "output_type": "stream",
     "text": [
      "defaultdict with list: defaultdict(<class 'list'>, {'a': [1, 1, 2], 'b': [4]})\n",
      "defaultdict with set: defaultdict(<class 'set'>, {'a': {1, 2}, 'b': {4}})\n"
     ]
    }
   ],
   "source": [
    "# Using defaultdict for construction of shuch dictionaries\n",
    "from collections import defaultdict\n",
    "\n",
    "d = defaultdict(list)\n",
    "d[\"a\"].append(1)\n",
    "d[\"a\"].append(1)\n",
    "d[\"a\"].append(2)\n",
    "d[\"b\"].append(4)\n",
    "\n",
    "e = defaultdict(set)\n",
    "e[\"a\"].add(1)\n",
    "e[\"a\"].add(1)\n",
    "e[\"a\"].add(2)\n",
    "e[\"b\"].add(4)\n",
    "\n",
    "print(f\"defaultdict with list: {d}\")\n",
    "print(f\"defaultdict with set: {e}\")"
   ]
  },
  {
   "cell_type": "code",
   "execution_count": 25,
   "metadata": {},
   "outputs": [
    {
     "name": "stdout",
     "output_type": "stream",
     "text": [
      "defaultdict(<class 'list'>, {'key1': ['value1', 'value11'], 'key2': ['value2', 'value22']})\n"
     ]
    }
   ],
   "source": [
    "# Initialization of multivalued dict\n",
    "d = defaultdict(list)\n",
    "pairs = [(\"key1\", \"value1\"), (\"key1\", \"value11\"), (\"key2\", \"value2\"), (\"key2\", \"value22\")]\n",
    "for key, value in pairs:\n",
    "    d[key].append(value)\n",
    "\n",
    "print(d)"
   ]
  },
  {
   "cell_type": "markdown",
   "metadata": {},
   "source": [
    "## 1.7 Keeping dictionaries in order"
   ]
  },
  {
   "cell_type": "code",
   "execution_count": 31,
   "metadata": {},
   "outputs": [
    {
     "name": "stdout",
     "output_type": "stream",
     "text": [
      "key: value - [('foo', 1), ('bar', 2), ('spam', 3), ('grok', 4)]\n"
     ]
    }
   ],
   "source": [
    "# Creating a dictionary and controlling the order of items when iterating or serializing\n",
    "# It is twice in size in comparison to normal dictionary\n",
    "\n",
    "# Using OrderedDict from collections\n",
    "from collections import OrderedDict\n",
    "d = OrderedDict()\n",
    "d[\"foo\"] = 1 \n",
    "d[\"bar\"] = 2 \n",
    "d[\"spam\"] = 3 \n",
    "d[\"grok\"] = 4\n",
    "\n",
    "print(f\"key: value - {[(key, d[key]) for key in d]}\")"
   ]
  },
  {
   "cell_type": "markdown",
   "metadata": {},
   "source": [
    "## 1.8 Calculating with dictionary"
   ]
  },
  {
   "cell_type": "code",
   "execution_count": 3,
   "metadata": {},
   "outputs": [
    {
     "name": "stdout",
     "output_type": "stream",
     "text": [
      "Min: (10.75, 'FB')\n",
      "Max: (612.78, 'AAPL')\n"
     ]
    }
   ],
   "source": [
    "# Performing various calculations on a dictionary data\n",
    "prices = {\n",
    "    \"ACME\": 45.23, \n",
    "    \"AAPL\": 612.78, \n",
    "    \"IBM\": 205.55, \n",
    "    \"HPQ\": 37.20, \n",
    "    \"FB\": 10.75\n",
    "}\n",
    "\n",
    "# Inverting the keys and the values of the dict using zip()\n",
    "min = min(zip(prices.values(), prices.keys()))\n",
    "max = max(zip(prices.values(), prices.keys()))\n",
    "print(f\"Min: {min}\")\n",
    "print(f\"Max: {max}\")"
   ]
  },
  {
   "cell_type": "code",
   "execution_count": 4,
   "metadata": {},
   "outputs": [
    {
     "name": "stdout",
     "output_type": "stream",
     "text": [
      "Sorted: [(10.75, 'FB'), (37.2, 'HPQ'), (45.23, 'ACME'), (205.55, 'IBM'), (612.78, 'AAPL')]\n"
     ]
    }
   ],
   "source": [
    "# Sorting dict\n",
    "prices_sorted = sorted(zip(prices.values(), prices.keys()))\n",
    "print(f\"Sorted: {prices_sorted}\")"
   ]
  },
  {
   "cell_type": "markdown",
   "metadata": {},
   "source": [
    "## 1.9 Finding commonalities in two dictionaries"
   ]
  },
  {
   "cell_type": "code",
   "execution_count": 8,
   "metadata": {},
   "outputs": [
    {
     "name": "stdout",
     "output_type": "stream",
     "text": [
      "a.keys == b.keys: {'x', 'y'}\n",
      "a.keys not in b.keys: {'z'}\n",
      "a.items == b.items: {('y', 2)}\n"
     ]
    }
   ],
   "source": [
    "# Finding the same key, value pairs between two dicts\n",
    "a={\n",
    "    \"x\" : 1,\n",
    "    \"y\" : 2,\n",
    "    \"z\" : 3 \n",
    "}\n",
    "\n",
    "b={\n",
    "    \"w\" : 10,\n",
    "    \"x\" : 11,\n",
    "    \"y\" : 2 \n",
    "}\n",
    "\n",
    "print(f\"a.keys == b.keys: {a.keys() & b.keys()}\")\n",
    "print(f\"a.keys not in b.keys: {a.keys() - b.keys()}\")\n",
    "print(f\"a.items == b.items: {a.items() & b.items()}\")"
   ]
  },
  {
   "cell_type": "code",
   "execution_count": 12,
   "metadata": {},
   "outputs": [
    {
     "name": "stdout",
     "output_type": "stream",
     "text": [
      "new dict c: {'x': 1, 'y': 2}\n"
     ]
    }
   ],
   "source": [
    "# Make a new dict with certain keys removed using dict comprehension\n",
    "c = {key:a[key] for key in a.keys() - {\"z\"}}\n",
    "print(f\"new dict c: {c}\")"
   ]
  },
  {
   "cell_type": "code",
   "execution_count": null,
   "metadata": {},
   "outputs": [],
   "source": []
  }
 ],
 "metadata": {
  "kernelspec": {
   "display_name": "Python 3.10.8 64-bit ('3.10.8')",
   "language": "python",
   "name": "python3"
  },
  "language_info": {
   "codemirror_mode": {
    "name": "ipython",
    "version": 3
   },
   "file_extension": ".py",
   "mimetype": "text/x-python",
   "name": "python",
   "nbconvert_exporter": "python",
   "pygments_lexer": "ipython3",
   "version": "3.10.8"
  },
  "orig_nbformat": 4,
  "vscode": {
   "interpreter": {
    "hash": "e8b4c6c5e9e32aadc410b20517cf7477a3a4e53c84e4f46cc79b0069bb40672a"
   }
  }
 },
 "nbformat": 4,
 "nbformat_minor": 2
}

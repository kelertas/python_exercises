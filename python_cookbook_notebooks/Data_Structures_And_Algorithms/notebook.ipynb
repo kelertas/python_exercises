{
 "cells": [
  {
   "cell_type": "markdown",
   "metadata": {},
   "source": [
    "# Unpacking a sequence into separate variables"
   ]
  },
  {
   "cell_type": "code",
   "execution_count": 9,
   "metadata": {},
   "outputs": [],
   "source": [
    "from typing import Tuple, List, Dict"
   ]
  },
  {
   "cell_type": "code",
<<<<<<< HEAD
   "execution_count": 30,
   "metadata": {},
   "outputs": [],
=======
   "execution_count": 8,
   "metadata": {},
   "outputs": [
    {
     "name": "stdout",
     "output_type": "stream",
     "text": [
      "x: 4, y: 5\n"
     ]
    }
   ],
>>>>>>> c059d5ffc26257a857eaf4122fdf7bdc394295f8
   "source": [
    "# tuple\n",
    "p: Tuple = (4, 5)\n",
    "x, y = p\n",
    "\n",
<<<<<<< HEAD
    "#print(f\"x: {x}, y: {y}\")"
=======
    "print(f\"x: {x}, y: {y}\")"
>>>>>>> c059d5ffc26257a857eaf4122fdf7bdc394295f8
   ]
  },
  {
   "cell_type": "code",
<<<<<<< HEAD
   "execution_count": 31,
   "metadata": {},
   "outputs": [],
=======
   "execution_count": 14,
   "metadata": {},
   "outputs": [
    {
     "name": "stdout",
     "output_type": "stream",
     "text": [
      "name: ACME, shares: 50, price: 91.1, year: 2012, month: 12, day: 21\n"
     ]
    }
   ],
>>>>>>> c059d5ffc26257a857eaf4122fdf7bdc394295f8
   "source": [
    "# list\n",
    "data: List[any] = [\"ACME\", 50, 91.1, (2012, 12, 21)]\n",
    "name, shares, price, date = data\n",
    "(year, month, day) = date\n",
    "\n",
    "print(f\"name: {name}, shares: {shares}, price: {price}, year: {year}, month: {month}, day: {day}\")"
   ]
  },
  {
   "cell_type": "code",
<<<<<<< HEAD
   "execution_count": 32,
   "metadata": {},
   "outputs": [],
=======
   "execution_count": 13,
   "metadata": {},
   "outputs": [
    {
     "name": "stdout",
     "output_type": "stream",
     "text": [
      "name: ACME, price: 91.1\n"
     ]
    }
   ],
>>>>>>> c059d5ffc26257a857eaf4122fdf7bdc394295f8
   "source": [
    "#Skipping some values from the list, use of underscore\n",
    "data: List[any] = [\"ACME\", 50, 91.1, (2012, 12, 21)]\n",
    "name, _, price, _ = data\n",
    "\n",
    "\n",
    "print(f\"name: {name}, price: {price}\")"
   ]
  },
  {
   "cell_type": "code",
<<<<<<< HEAD
   "execution_count": null,
   "metadata": {},
   "outputs": [],
=======
   "execution_count": 11,
   "metadata": {},
   "outputs": [
    {
     "name": "stdout",
     "output_type": "stream",
     "text": [
      "a: H, b: e, c: l, d: l, e: o,\n"
     ]
    }
   ],
>>>>>>> c059d5ffc26257a857eaf4122fdf7bdc394295f8
   "source": [
    "# string\n",
    "s: str = \"Hello\"\n",
    "a, b, c, d, e = s\n",
    "\n",
    "print(f\"a: {a}, b: {b}, c: {c}, d: {d}, e: {e},\")"
   ]
  },
  {
   "cell_type": "markdown",
   "metadata": {},
   "source": [
    "## Unpacking elements from iterables of arbitrary length"
   ]
  },
  {
   "cell_type": "code",
<<<<<<< HEAD
   "execution_count": null,
   "metadata": {},
   "outputs": [],
=======
   "execution_count": 12,
   "metadata": {},
   "outputs": [
    {
     "name": "stdout",
     "output_type": "stream",
     "text": [
      "name: Dave\n",
      "email: dave@example.com\n",
      "phone_numbers: ['777-555-12121', '847-555-12121']\n",
      "phone_numbers: 777-555-12121\n"
     ]
    }
   ],
>>>>>>> c059d5ffc26257a857eaf4122fdf7bdc394295f8
   "source": [
    "# the usage of \"star\" operator\n",
    "record: Tuple = (\"Dave\", \"777-555-12121\", \"847-555-12121\", \"dave@example.com\")\n",
    "name, *phone_numbers, email  = record\n",
    "\n",
    "print(f\"name: {name}\")\n",
    "print(f\"email: {email}\")\n",
    "print(f\"phone_numbers: {phone_numbers}\")\n",
    "print(f\"phone_numbers: {phone_numbers[0]}\")\n"
   ]
  },
  {
   "cell_type": "code",
<<<<<<< HEAD
   "execution_count": null,
   "metadata": {},
   "outputs": [],
=======
   "execution_count": 16,
   "metadata": {},
   "outputs": [
    {
     "name": "stdout",
     "output_type": "stream",
     "text": [
      "tag: foo, args: [1, 2]\n",
      "foo 1 2\n",
      "tag: bar, args: ['hello']\n",
      "bar hello\n",
      "tag: foo, args: [3, 4]\n",
      "foo 3 4\n"
     ]
    }
   ],
>>>>>>> c059d5ffc26257a857eaf4122fdf7bdc394295f8
   "source": [
    "# sequence of tuples\n",
    "records: List[Tuple] = [\n",
    "    (\"foo\", 1, 2),\n",
    "    (\"bar\", \"hello\"),\n",
    "    (\"foo\", 3, 4)\n",
    "]\n",
    "\n",
    "def do_foo(x: int, y: int) -> None:\n",
    "    print(f\"foo {x} {y}\")\n",
<<<<<<< HEAD
    "    pass\n",
    "\n",
    "def do_bar(s: str) -> None:\n",
    "    print(f\"bar {s}\")\n",
    "    \n",
=======
    "\n",
    "def do_bar(s: str) -> None:\n",
    "    print(f\"bar {s}\")\n",
    "\n",
>>>>>>> c059d5ffc26257a857eaf4122fdf7bdc394295f8
    "for tag, *args in records:\n",
    "    print(f\"tag: {tag}, args: {args}\")\n",
    "    if tag == \"foo\":\n",
    "        do_foo(*args)\n",
    "    elif tag == \"bar\":\n",
    "        do_bar(*args)"
   ]
  },
  {
   "cell_type": "code",
<<<<<<< HEAD
   "execution_count": null,
   "metadata": {},
   "outputs": [],
=======
   "execution_count": 18,
   "metadata": {},
   "outputs": [
    {
     "name": "stdout",
     "output_type": "stream",
     "text": [
      "['nobody', '*', '-2', '-2', 'Unprivileged User', '/var/empty', '/usr/bin/false']\n",
      "<class 'list'>\n",
      "uname: nobody\n",
      "fields: ['*', '-2', '-2', 'Unprivileged User']\n",
      "homedir: /var/empty\n",
      "sh: /usr/bin/false\n"
     ]
    }
   ],
>>>>>>> c059d5ffc26257a857eaf4122fdf7bdc394295f8
   "source": [
    "# star unpacking in string processing\n",
    "\n",
    "line: str = \"nobody:*:-2:-2:Unprivileged User:/var/empty:/usr/bin/false\"\n",
    "uname, *fields, homedir, sh = line.split(\":\")\n",
    "\n",
    "print(line.split(\":\"))\n",
    "print(type(line.split(\":\")))\n",
    "\n",
    "print(f\"uname: {uname}\")\n",
    "print(f\"fields: {fields}\")\n",
    "print(f\"homedir: {homedir}\")\n",
    "print(f\"sh: {sh}\")"
   ]
  },
  {
   "cell_type": "code",
<<<<<<< HEAD
   "execution_count": null,
   "metadata": {},
   "outputs": [],
=======
   "execution_count": 19,
   "metadata": {},
   "outputs": [
    {
     "name": "stdout",
     "output_type": "stream",
     "text": [
      "name: ACME, year: 2012\n"
     ]
    }
   ],
>>>>>>> c059d5ffc26257a857eaf4122fdf7bdc394295f8
   "source": [
    "# ignoring some of the values\n",
    "record = (\"ACME\", 50, 123.45, (12, 18, 2012))\n",
    "name, *_, (*_, year) = record\n",
    "\n",
    "print(f\"name: {name}, year: {year}\")"
   ]
  },
  {
   "cell_type": "code",
<<<<<<< HEAD
   "execution_count": null,
   "metadata": {},
   "outputs": [],
=======
   "execution_count": 21,
   "metadata": {},
   "outputs": [
    {
     "data": {
      "text/plain": [
       "21"
      ]
     },
     "execution_count": 21,
     "metadata": {},
     "output_type": "execute_result"
    }
   ],
>>>>>>> c059d5ffc26257a857eaf4122fdf7bdc394295f8
   "source": [
    "# recursive function using unpack operator for suming the digits of the number\n",
    "def sum(items: List[int]) -> int:\n",
    "    head, *tail = items\n",
    "    if tail:\n",
    "        return head + sum(tail)\n",
    "    else:\n",
    "        return head\n",
    "\n",
    "items: List[int] = [1, 2, 3, 4, 5, 6]\n",
    "sum(items)"
   ]
  },
  {
   "cell_type": "markdown",
   "metadata": {},
   "source": [
    "## Keeping the last N items"
   ]
  },
  {
   "cell_type": "code",
<<<<<<< HEAD
   "execution_count": null,
   "metadata": {},
   "outputs": [],
=======
   "execution_count": 28,
   "metadata": {},
   "outputs": [
    {
     "name": "stdout",
     "output_type": "stream",
     "text": [
      "python is a programming language 1\n",
      "\n",
      "---------------------------------------------\n",
      "python is a programming language 1\n",
      "\n",
      "c++ is a programming language 2\n",
      "\n",
      "java is a programming language 3\n",
      "\n",
      "php and python are programming languages 4\n",
      "\n",
      "---------------------------------------------\n",
      "java is a programming language 3\n",
      "\n",
      "php and python are programming languages 4\n",
      "\n",
      "c++ and java are programming languages 5\n",
      "\n",
      "c++ and java are programming languages 6\n",
      "\n",
      "c++ and java are programming languages 7\n",
      "\n",
      "php and python are programming languages 8\n",
      "\n",
      "---------------------------------------------\n",
      "php and python are programming languages 4\n",
      "\n",
      "c++ and java are programming languages 5\n",
      "\n",
      "c++ and java are programming languages 6\n",
      "\n",
      "c++ and java are programming languages 7\n",
      "\n",
      "php and python are programming languages 8\n",
      "\n",
      "php and python are programming languages 9\n",
      "\n",
      "---------------------------------------------\n",
      "c++ and java are programming languages 5\n",
      "\n",
      "c++ and java are programming languages 6\n",
      "\n",
      "c++ and java are programming languages 7\n",
      "\n",
      "php and python are programming languages 8\n",
      "\n",
      "php and python are programming languages 9\n",
      "\n",
      "php and python are programming languages 10\n",
      "\n",
      "---------------------------------------------\n",
      "php and python are programming languages 8\n",
      "\n",
      "php and python are programming languages 9\n",
      "\n",
      "php and python are programming languages 10\n",
      "\n",
      "c++ is a programming language 11\n",
      "\n",
      "c++ is a programming language 12\n",
      "\n",
      "python is a programming language 13\n",
      "\n",
      "---------------------------------------------\n",
      "php and python are programming languages 9\n",
      "\n",
      "php and python are programming languages 10\n",
      "\n",
      "c++ is a programming language 11\n",
      "\n",
      "c++ is a programming language 12\n",
      "\n",
      "python is a programming language 13\n",
      "\n",
      "python is a programming language 14\n",
      "\n",
      "---------------------------------------------\n",
      "php and python are programming languages 10\n",
      "\n",
      "c++ is a programming language 11\n",
      "\n",
      "c++ is a programming language 12\n",
      "\n",
      "python is a programming language 13\n",
      "\n",
      "python is a programming language 14\n",
      "\n",
      "python is a programming language 15\n",
      "\n",
      "---------------------------------------------\n",
      "python is a programming language 14\n",
      "\n",
      "python is a programming language 15\n",
      "\n",
      "java is a programming language 16\n",
      "\n",
      "java is a programming language 17\n",
      "\n",
      "java is a programming language 18\n",
      "\n",
      "php and python are programming languages 19\n",
      "\n",
      "---------------------------------------------\n",
      "python is a programming language 15\n",
      "\n",
      "java is a programming language 16\n",
      "\n",
      "java is a programming language 17\n",
      "\n",
      "java is a programming language 18\n",
      "\n",
      "php and python are programming languages 19\n",
      "\n",
      "php and python are programming languages 20\n",
      "---------------------------------------------\n"
     ]
    }
   ],
>>>>>>> c059d5ffc26257a857eaf4122fdf7bdc394295f8
   "source": [
    "# The following code performs a simple text match on a sequence of lines and\n",
    "# yields the matching line along with the previous N lines of context when found\n",
    "\n",
    "# Will be using collections.deque\n",
    "# Deque if prefered over a list when quicker append and pop operations from both ends\n",
    "# of the container needed. Time complexity O(1) over O(n) of a list\n",
    "\n",
    "from collections import deque\n",
    "from collections.abc import Generator\n",
    "\n",
    "def search(lines: str, pattern: str, history: int = 5) -> Generator[str, deque[str], None]:\n",
    "    previous_lines = deque(maxlen=history)\n",
    "    for line in lines:\n",
    "        if pattern in line:\n",
    "            yield line, previous_lines\n",
    "        previous_lines.append(line)\n",
    "\n",
    "\n",
    "\n",
    "#Example use on a file\n",
    "if __name__ == \"__main__\":\n",
    "    with open('text.txt', 'r') as f:\n",
    "        for line, prevlines in search(f, \"python\"):\n",
    "            for pline in prevlines:\n",
    "                print(f\"{pline}\")\n",
    "            print(f\"{line}\")\n",
    "            print(\"-\" * 45)"
   ]
  },
  {
   "cell_type": "code",
<<<<<<< HEAD
   "execution_count": null,
   "metadata": {},
   "outputs": [],
=======
   "execution_count": 24,
   "metadata": {},
   "outputs": [
    {
     "name": "stdout",
     "output_type": "stream",
     "text": [
      "<generator object txt_read at 0x10d582500>\n",
      "python is a programming language 1\n",
      "\n",
      "c++ is a programming language 2\n",
      "\n",
      "java is a programming language 3\n",
      "\n",
      "php and python are programming languages 4\n",
      "\n",
      "c++ and java are programming languages 5\n",
      "\n",
      "c++ and java are programming languages 6\n",
      "\n",
      "c++ and java are programming languages 7\n",
      "\n",
      "php and python are programming languages 8\n",
      "\n",
      "php and python are programming languages 9\n",
      "\n",
      "php and python are programming languages 10\n",
      "\n",
      "c++ is a programming language 11\n",
      "\n",
      "c++ is a programming language 12\n",
      "\n",
      "python is a programming language 13\n",
      "\n",
      "python is a programming language 14\n",
      "\n",
      "python is a programming language 15\n",
      "\n",
      "java is a programming language 16\n",
      "\n",
      "java is a programming language 17\n",
      "\n",
      "java is a programming language 18\n",
      "\n",
      "php and python are programming languages 19\n",
      "\n",
      "php and python are programming languages 20\n"
     ]
    }
   ],
>>>>>>> c059d5ffc26257a857eaf4122fdf7bdc394295f8
   "source": [
    "# Example of using generator\n",
    "\n",
    "def txt_read(file_name: str) -> Generator[str, None, None]:\n",
    "    for row in open(file_name, \"r\"):\n",
    "        yield row\n",
    "\n",
    "print(txt_read(\"text.txt\"))\n",
    "\n",
    "for row in txt_read(\"text.txt\"):\n",
    "    print(f\"{row}\")"
   ]
  },
  {
   "cell_type": "code",
<<<<<<< HEAD
   "execution_count": null,
   "metadata": {},
   "outputs": [],
=======
   "execution_count": 29,
   "metadata": {},
   "outputs": [
    {
     "name": "stdout",
     "output_type": "stream",
     "text": [
      "<class 'generator'>\n",
      "python is a programming language 1\n",
      "\n",
      "python is a programming language 13\n",
      "\n",
      "python is a programming language 14\n",
      "\n",
      "python is a programming language 15\n",
      "\n"
     ]
    }
   ],
>>>>>>> c059d5ffc26257a857eaf4122fdf7bdc394295f8
   "source": [
    "# Example of using generator comprehension and a certain condition\n",
    "row_gen = (row for row in open(\"text.txt\", \"r\") if row.startswith(\"python\"))\n",
    "print(type(row_gen))\n",
    "for row in row_gen:\n",
    "    print(f\"{row}\")"
   ]
  },
  {
   "cell_type": "code",
   "execution_count": null,
   "metadata": {},
   "outputs": [],
   "source": []
  }
 ],
 "metadata": {
  "kernelspec": {
   "display_name": "Python 3.10.8 64-bit ('3.10.8')",
   "language": "python",
   "name": "python3"
  },
  "language_info": {
   "codemirror_mode": {
    "name": "ipython",
    "version": 3
   },
   "file_extension": ".py",
   "mimetype": "text/x-python",
   "name": "python",
   "nbconvert_exporter": "python",
   "pygments_lexer": "ipython3",
   "version": "3.10.8"
  },
  "orig_nbformat": 4,
  "vscode": {
   "interpreter": {
    "hash": "e8b4c6c5e9e32aadc410b20517cf7477a3a4e53c84e4f46cc79b0069bb40672a"
   }
  }
 },
 "nbformat": 4,
 "nbformat_minor": 2
}
